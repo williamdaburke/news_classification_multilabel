{
  "nbformat": 4,
  "nbformat_minor": 0,
  "metadata": {
    "colab": {
      "name": "pulsar tfidf.ipynb",
      "version": "0.3.2",
      "provenance": [],
      "collapsed_sections": []
    },
    "kernelspec": {
      "name": "python3",
      "display_name": "Python 3"
    },
    "accelerator": "GPU"
  },
  "cells": [
    {
      "cell_type": "code",
      "metadata": {
        "id": "BqcU5JDRLuUT",
        "colab_type": "code",
        "outputId": "b043f753-4b07-4403-df6c-45ea2ea66d49",
        "colab": {
          "base_uri": "https://localhost:8080/",
          "height": 52
        }
      },
      "source": [
        "import pandas as pd\n",
        "import numpy as np\n",
        "import matplotlib.pyplot as plt\n",
        "from datetime import datetime\n",
        "import re\n",
        "\n",
        "import math\n",
        "\n",
        "import seaborn as sns\n",
        "from tqdm import tqdm\n",
        "from sklearn.feature_extraction.text import TfidfVectorizer\n",
        "\n",
        "from sklearn.preprocessing import MultiLabelBinarizer\n",
        "multilabel_binarizer = MultiLabelBinarizer()\n",
        "\n",
        "\n",
        "import nltk, spacy\n",
        "nlp = spacy.load('en', disable=['parser', 'ner'])\n",
        "nltk.download('stopwords')\n",
        "from nltk.corpus import stopwords\n",
        "\n",
        "from sklearn.model_selection import train_test_split\n",
        "\n",
        "from IPython.core.interactiveshell import InteractiveShell\n",
        "InteractiveShell.ast_node_interactivity = \"all\"\n",
        "\n",
        "def parse(x):\n",
        "\treturn datetime.strptime(x, '%Y-%m-%d %H:%M:%S %Z')\n"
      ],
      "execution_count": 1,
      "outputs": [
        {
          "output_type": "stream",
          "text": [
            "[nltk_data] Downloading package stopwords to /root/nltk_data...\n",
            "[nltk_data]   Unzipping corpora/stopwords.zip.\n"
          ],
          "name": "stdout"
        }
      ]
    },
    {
      "cell_type": "code",
      "metadata": {
        "id": "yX2FWh9zNxxt",
        "colab_type": "code",
        "outputId": "2fca2387-1e03-436d-d455-b4765208bf53",
        "colab": {
          "base_uri": "https://localhost:8080/",
          "height": 124
        }
      },
      "source": [
        "data_df = pd.read_csv(\"https://storage.googleapis.com/dj-pulsar-examples/dj-dna-news.csv\",parse_dates = ['modification_date','publication_date'], date_parser=parse)\n",
        "print('original size',data_df.shape)\n",
        "data_df = data_df[data_df['language_code']=='en'].reset_index()\n",
        "\n",
        "data_df['text'] = data_df['snippet'].astype(str) + ' ' + data_df['body'].astype(str)  #data_df['title'].astype(str) + \" \" + data_df['snippet'].astype(str) + ' ' + data_df['body'].astype(str)\n",
        "print('size only english',data_df.shape)\n",
        "print('rows with no text',data_df[data_df['text'].isna()].shape[0])"
      ],
      "execution_count": 2,
      "outputs": [
        {
          "output_type": "stream",
          "text": [
            "/usr/local/lib/python3.6/dist-packages/IPython/core/interactiveshell.py:2718: DtypeWarning: Columns (9,24,32,33) have mixed types. Specify dtype option on import or set low_memory=False.\n",
            "  interactivity=interactivity, compiler=compiler, result=result)\n"
          ],
          "name": "stderr"
        },
        {
          "output_type": "stream",
          "text": [
            "original size (42010, 35)\n",
            "size only english (23891, 37)\n",
            "rows with no text 0\n"
          ],
          "name": "stdout"
        }
      ]
    },
    {
      "cell_type": "code",
      "metadata": {
        "id": "vGTbBBmtL3lR",
        "colab_type": "code",
        "colab": {}
      },
      "source": [
        "data_df['subject_codes'] = data_df['subject_codes'].fillna('nocategory')\n",
        "data_df['subject_codes_list'] = data_df['subject_codes'].str.split(',')  "
      ],
      "execution_count": 0,
      "outputs": []
    },
    {
      "cell_type": "code",
      "metadata": {
        "id": "QKL8_R3BNCli",
        "colab_type": "code",
        "colab": {
          "base_uri": "https://localhost:8080/",
          "height": 69
        },
        "outputId": "a20094ec-e465-43e7-dc79-75788d8b73f2"
      },
      "source": [
        "multilabel_binarizer.fit(data_df['subject_codes_list'])\n",
        "y = multilabel_binarizer.transform(data_df['subject_codes_list'])\n",
        "y.shape\n",
        "\n",
        "label_counts = np.sum(y,axis=0)\n",
        "\n",
        "print(np.mean(label_counts))\n",
        "print(np.max(label_counts))\n",
        "print(np.min(label_counts))"
      ],
      "execution_count": 5,
      "outputs": [
        {
          "output_type": "execute_result",
          "data": {
            "text/plain": [
              "MultiLabelBinarizer(classes=None, sparse_output=False)"
            ]
          },
          "metadata": {
            "tags": []
          },
          "execution_count": 5
        },
        {
          "output_type": "execute_result",
          "data": {
            "text/plain": [
              "(23891, 690)"
            ]
          },
          "metadata": {
            "tags": []
          },
          "execution_count": 5
        },
        {
          "output_type": "stream",
          "text": [
            "363.8884057971014\n",
            "22436\n",
            "1\n"
          ],
          "name": "stdout"
        }
      ]
    },
    {
      "cell_type": "code",
      "metadata": {
        "id": "IU3AsVdzOCnq",
        "colab_type": "code",
        "outputId": "306517b2-1ec9-4539-bbc8-e4f4d78b88a3",
        "colab": {
          "base_uri": "https://localhost:8080/",
          "height": 898
        }
      },
      "source": [
        "all_labels = sum(data_df['subject_codes_list'],[])\n",
        "len(set(all_labels))\n",
        "\n",
        "all_labels = nltk.FreqDist(all_labels)\n",
        "all_labels_df = pd.DataFrame({'Label': list(all_labels.keys()), 'Count': list(all_labels.values())})\n",
        "\n",
        "g = all_labels_df.nlargest(columns=\"Count\", n = 50) \n",
        "plt.figure(figsize=(20,15))\n",
        "ax = sns.barplot(data=g, x= \"Count\", y = \"Label\")\n",
        "\n",
        "plt.show()"
      ],
      "execution_count": 7,
      "outputs": [
        {
          "output_type": "execute_result",
          "data": {
            "text/plain": [
              "690"
            ]
          },
          "metadata": {
            "tags": []
          },
          "execution_count": 7
        },
        {
          "output_type": "execute_result",
          "data": {
            "text/plain": [
              "<Figure size 1440x1080 with 0 Axes>"
            ]
          },
          "metadata": {
            "tags": []
          },
          "execution_count": 7
        },
        {
          "output_type": "display_data",
          "data": {
            "image/png": "[encoded data removed]",
            "text/plain": [
              "<Figure size 1440x1080 with 1 Axes>"
            ]
          },
          "metadata": {
            "tags": []
          }
        }
      ]
    },
    {
      "cell_type": "code",
      "metadata": {
        "id": "DP9h6r6vOEgS",
        "colab_type": "code",
        "outputId": "4bee87dc-4984-4e7d-a3b5-062b82b3fe94",
        "colab": {
          "base_uri": "https://localhost:8080/",
          "height": 69
        }
      },
      "source": [
        "nltk.download('stopwords')\n",
        "\n",
        "from nltk.corpus import stopwords\n",
        "additional_stops = ['dow','jones','newswires','news','wsj','com','www','http']\n",
        "stop_words = set(stopwords.words('english')+additional_stops)\n",
        "\n",
        "#performs slightly better without lemmatization\n",
        "'''nlp = spacy.load('en', disable=['parser', 'ner'])\n",
        "def lemmatize(text):\n",
        "    return [token.lemma_ for token in nlp(text)]'''\n",
        "  \n",
        "def clean_text(text):\n",
        "    text = re.sub(\"\\'\", \"\", text)\n",
        "    #text = re.sub('((www\\.[^\\s]+)|(https?://[^\\s]+))', ' ', text)\n",
        "    text = re.sub(\"[^a-z]\",\" \",text.lower())\n",
        "    #text = re.sub(r'(.)\\1+', r'\\1\\1', text)\n",
        "    text = ' '.join([w for w in text.split() if not w in stop_words])\n",
        "    #text = ' '.join(lemmatize(text))\n",
        "    return text"
      ],
      "execution_count": 8,
      "outputs": [
        {
          "output_type": "stream",
          "text": [
            "[nltk_data] Downloading package stopwords to /root/nltk_data...\n",
            "[nltk_data]   Package stopwords is already up-to-date!\n"
          ],
          "name": "stdout"
        },
        {
          "output_type": "execute_result",
          "data": {
            "text/plain": [
              "True"
            ]
          },
          "metadata": {
            "tags": []
          },
          "execution_count": 8
        },
        {
          "output_type": "execute_result",
          "data": {
            "text/plain": [
              "\"nlp = spacy.load('en', disable=['parser', 'ner'])\\ndef lemmatize(text):\\n    return [token.lemma_ for token in nlp(text)]\""
            ]
          },
          "metadata": {
            "tags": []
          },
          "execution_count": 8
        }
      ]
    },
    {
      "cell_type": "code",
      "metadata": {
        "id": "XyAwEvxQar64",
        "colab_type": "code",
        "outputId": "b5343f43-c7ce-4c32-9d12-a94e4d72e2e8",
        "colab": {
          "base_uri": "https://localhost:8080/",
          "height": 129
        }
      },
      "source": [
        "data_df['text'].head().apply(lambda x: clean_text(x))"
      ],
      "execution_count": 0,
      "outputs": [
        {
          "output_type": "execute_result",
          "data": {
            "text/plain": [
              "0    global shortage zinc galvanizing investors pri...\n",
              "1    interview bruce geller ceo dalton greiner hart...\n",
              "2    housing market finally advancing walk inching ...\n",
              "3    trillion annuity industrys latest golden child...\n",
              "4    month ago column weighed positive story armstr...\n",
              "Name: text, dtype: object"
            ]
          },
          "metadata": {
            "tags": []
          },
          "execution_count": 6
        }
      ]
    },
    {
      "cell_type": "code",
      "metadata": {
        "id": "aGII5BhrOojm",
        "colab_type": "code",
        "colab": {}
      },
      "source": [
        "data_df['clean_text'] = data_df['text'].apply(lambda x: clean_text(x))"
      ],
      "execution_count": 0,
      "outputs": []
    },
    {
      "cell_type": "code",
      "metadata": {
        "id": "uqN2dTE_7qI_",
        "colab_type": "code",
        "colab": {
          "base_uri": "https://localhost:8080/",
          "height": 881
        },
        "outputId": "799a5da0-67ba-4cae-e862-7f3f450988bb"
      },
      "source": [
        "def freq_words(x, terms = 30):\n",
        "  all_words = ' '.join([text for text in x])\n",
        "  all_words = all_words.split()\n",
        "  \n",
        "  fdist = nltk.FreqDist(all_words)\n",
        "  words_df = pd.DataFrame({'word':list(fdist.keys()), 'count':list(fdist.values())})\n",
        "  \n",
        "  d = words_df.nlargest(columns=\"count\", n = terms) \n",
        "  plt.figure(figsize=(12,15))\n",
        "  ax = sns.barplot(data=d, x= \"count\", y = \"word\")\n",
        "  plt.show()\n",
        "  \n",
        "freq_words(data_df['clean_text'], 100)"
      ],
      "execution_count": 10,
      "outputs": [
        {
          "output_type": "display_data",
          "data": {
            "image/png": "[encoded data removed]",
            "text/plain": [
              "<Figure size 864x1080 with 1 Axes>"
            ]
          },
          "metadata": {
            "tags": []
          }
        }
      ]
    },
    {
      "cell_type": "code",
      "metadata": {
        "id": "ZGJlwWZsA5Ze",
        "colab_type": "code",
        "colab": {}
      },
      "source": [
        ""
      ],
      "execution_count": 0,
      "outputs": []
    },
    {
      "cell_type": "code",
      "metadata": {
        "colab_type": "code",
        "outputId": "30d28189-0c43-4169-bb96-3c4808c4b152",
        "id": "eocC0vkaGxRA",
        "colab": {
          "base_uri": "https://localhost:8080/",
          "height": 56
        }
      },
      "source": [
        "#results in too many entries\n",
        "\"\"\"from imblearn.over_sampling import RandomOverSampler\n",
        "\n",
        "ros = RandomOverSampler(random_state=42)\n",
        "X_res, y_res = ros.fit_resample(data_df[['clean_text']].values, y)\n",
        "X_res = X_res.reshape(X_res.shape[0],)\n",
        "\n",
        "#del data_df\n",
        "X_res.shape,y_res.shape\"\"\""
      ],
      "execution_count": 0,
      "outputs": [
        {
          "output_type": "execute_result",
          "data": {
            "text/plain": [
              "\"from imblearn.over_sampling import RandomOverSampler\\n\\nros = RandomOverSampler(random_state=42)\\nX_res, y_res = ros.fit_resample(data_df[['clean_text']].values, y)\\nX_res = X_res.reshape(X_res.shape[0],)\\n\\n#del data_df\\nX_res.shape,y_res.shape\""
            ]
          },
          "metadata": {
            "tags": []
          },
          "execution_count": 9
        }
      ]
    },
    {
      "cell_type": "code",
      "metadata": {
        "id": "gusJGQrjSHLu",
        "colab_type": "code",
        "colab": {}
      },
      "source": [
        "tfidf_vectorizer = TfidfVectorizer(max_df=0.8, max_features=10000)"
      ],
      "execution_count": 0,
      "outputs": []
    },
    {
      "cell_type": "code",
      "metadata": {
        "id": "0UuHzNyDSUxJ",
        "colab_type": "code",
        "colab": {}
      },
      "source": [
        "xtrain, xval, ytrain, yval = train_test_split(data_df['clean_text'], y, test_size=0.2, random_state=9)"
      ],
      "execution_count": 0,
      "outputs": []
    },
    {
      "cell_type": "code",
      "metadata": {
        "id": "HcM4ysN1UDSF",
        "colab_type": "code",
        "colab": {}
      },
      "source": [
        "xtrain_tfidf = tfidf_vectorizer.fit_transform(xtrain)\n",
        "xval_tfidf = tfidf_vectorizer.transform(xval)"
      ],
      "execution_count": 0,
      "outputs": []
    },
    {
      "cell_type": "code",
      "metadata": {
        "id": "vIaCGBotUI0D",
        "colab_type": "code",
        "colab": {}
      },
      "source": [
        "#not enough samples of minority classes\n",
        "\"\"\"from imblearn.over_sampling import SVMSMOTE\n",
        "sm = SVMSMOTE('auto',random_state=777, k_neighbors=4,m_neighbors=4)\n",
        "sm_xtrain_tfidf, sm_train_y = sm.fit_sample(xtrain_tfidf, ytrain)\n",
        "sm_train_y.shape\"\"\""
      ],
      "execution_count": 0,
      "outputs": []
    },
    {
      "cell_type": "code",
      "metadata": {
        "id": "LOqG7Ua-sCl5",
        "colab_type": "code",
        "outputId": "9c8bf02d-301c-4550-ca83-b79dd09508b1",
        "colab": {
          "base_uri": "https://localhost:8080/",
          "height": 36
        }
      },
      "source": [
        ""
      ],
      "execution_count": 0,
      "outputs": [
        {
          "output_type": "execute_result",
          "data": {
            "text/plain": [
              "(19112, 86)"
            ]
          },
          "metadata": {
            "tags": []
          },
          "execution_count": 21
        }
      ]
    },
    {
      "cell_type": "code",
      "metadata": {
        "id": "cqt_7Na_UF64",
        "colab_type": "code",
        "colab": {}
      },
      "source": [
        "from sklearn import naive_bayes, metrics, svm\n",
        "from sklearn.linear_model import LogisticRegression\n",
        "from sklearn.multiclass import OneVsRestClassifier\n",
        "from sklearn.ensemble import BaggingClassifier\n",
        "\n",
        "from sklearn.metrics import f1_score\n",
        "from sklearn.metrics import classification_report\n"
      ],
      "execution_count": 0,
      "outputs": []
    },
    {
      "cell_type": "code",
      "metadata": {
        "id": "X3TubFzJV0Tg",
        "colab_type": "code",
        "outputId": "90cffb97-a7cc-4f6e-da83-ec8b89bf6ae0",
        "colab": {
          "base_uri": "https://localhost:8080/",
          "height": 670
        }
      },
      "source": [
        "padding_print = \"\\n \\n ###########################################################\\n \\n\"\n",
        "\n",
        "n_estimators = 10\n",
        "models = {\n",
        "          \"bayes\":{\"model\":naive_bayes.MultinomialNB()}\n",
        "          ,\"lr\":{\"model\":LogisticRegression()}\n",
        "          #,\"svm\":{\"model\":BaggingClassifier(svm.SVC(kernel='linear', probability=True, class_weight='balanced'), max_samples=1.0 / n_estimators, n_estimators=n_estimators)}\n",
        "         }\n",
        "          \n",
        "results_df = pd.DataFrame(columns = ['model','f1'])\n",
        "\n",
        "for m in models.keys():\n",
        "  models[m]['clf'] = OneVsRestClassifier(models[m]['model'])\n",
        "  models[m]['clf'].fit(xtrain_tfidf, ytrain)\n",
        "  \n",
        "  y_pred_prob = models[m]['clf'].predict_proba(xval_tfidf)\n",
        "  models[m]['y_pred'] = (y_pred_prob >= .3).astype(int)\n",
        "  models[m]['f1'] = f1_score(yval, models[m]['y_pred'], average=\"micro\")\n",
        "  print(padding_print,m,' f1: ',models[m]['f1'],padding_print)\n",
        "  results_df = results_df.append({\"model\":m,'f1':models[m]['f1']}, ignore_index=True)\n",
        "  \n",
        "results_df"
      ],
      "execution_count": 0,
      "outputs": [
        {
          "output_type": "execute_result",
          "data": {
            "text/plain": [
              "OneVsRestClassifier(estimator=MultinomialNB(alpha=1.0, class_prior=None,\n",
              "                                            fit_prior=True),\n",
              "                    n_jobs=None)"
            ]
          },
          "metadata": {
            "tags": []
          },
          "execution_count": 27
        },
        {
          "output_type": "stream",
          "text": [
            "\n",
            " \n",
            " ###########################################################\n",
            " \n",
            " bayes  f1:  0.7505294904646365 \n",
            " \n",
            " ###########################################################\n",
            " \n",
            "\n"
          ],
          "name": "stdout"
        },
        {
          "output_type": "stream",
          "text": [
            "/usr/local/lib/python3.6/dist-packages/sklearn/linear_model/logistic.py:432: FutureWarning: Default solver will be changed to 'lbfgs' in 0.22. Specify a solver to silence this warning.\n",
            "  FutureWarning)\n"
          ],
          "name": "stderr"
        },
        {
          "output_type": "execute_result",
          "data": {
            "text/plain": [
              "OneVsRestClassifier(estimator=LogisticRegression(C=1.0, class_weight=None,\n",
              "                                                 dual=False, fit_intercept=True,\n",
              "                                                 intercept_scaling=1,\n",
              "                                                 l1_ratio=None, max_iter=100,\n",
              "                                                 multi_class='warn',\n",
              "                                                 n_jobs=None, penalty='l2',\n",
              "                                                 random_state=None,\n",
              "                                                 solver='warn', tol=0.0001,\n",
              "                                                 verbose=0, warm_start=False),\n",
              "                    n_jobs=None)"
            ]
          },
          "metadata": {
            "tags": []
          },
          "execution_count": 27
        },
        {
          "output_type": "stream",
          "text": [
            "\n",
            " \n",
            " ###########################################################\n",
            " \n",
            " lr  f1:  0.9372877143567226 \n",
            " \n",
            " ###########################################################\n",
            " \n",
            "\n"
          ],
          "name": "stdout"
        },
        {
          "output_type": "execute_result",
          "data": {
            "text/html": [
              "<div>\n",
              "<style scoped>\n",
              "    .dataframe tbody tr th:only-of-type {\n",
              "        vertical-align: middle;\n",
              "    }\n",
              "\n",
              "    .dataframe tbody tr th {\n",
              "        vertical-align: top;\n",
              "    }\n",
              "\n",
              "    .dataframe thead th {\n",
              "        text-align: right;\n",
              "    }\n",
              "</style>\n",
              "<table border=\"1\" class=\"dataframe\">\n",
              "  <thead>\n",
              "    <tr style=\"text-align: right;\">\n",
              "      <th></th>\n",
              "      <th>model</th>\n",
              "      <th>f1</th>\n",
              "    </tr>\n",
              "  </thead>\n",
              "  <tbody>\n",
              "    <tr>\n",
              "      <th>0</th>\n",
              "      <td>bayes</td>\n",
              "      <td>0.750529</td>\n",
              "    </tr>\n",
              "    <tr>\n",
              "      <th>1</th>\n",
              "      <td>lr</td>\n",
              "      <td>0.937288</td>\n",
              "    </tr>\n",
              "  </tbody>\n",
              "</table>\n",
              "</div>"
            ],
            "text/plain": [
              "   model        f1\n",
              "0  bayes  0.750529\n",
              "1     lr  0.937288"
            ]
          },
          "metadata": {
            "tags": []
          },
          "execution_count": 27
        }
      ]
    },
    {
      "cell_type": "code",
      "metadata": {
        "id": "0SLY0jQ9hzrd",
        "colab_type": "code",
        "colab": {}
      },
      "source": [
        ""
      ],
      "execution_count": 0,
      "outputs": []
    },
    {
      "cell_type": "code",
      "metadata": {
        "id": "efCsUVCbg7Ez",
        "colab_type": "code",
        "outputId": "4e2b954e-5f7d-4b27-f293-fff6a8aa1855",
        "colab": {
          "base_uri": "https://localhost:8080/",
          "height": 1000
        }
      },
      "source": [
        "print(classification_report(yval, models['bayes']['y_pred']))"
      ],
      "execution_count": 0,
      "outputs": [
        {
          "output_type": "stream",
          "text": [
            "              precision    recall  f1-score   support\n",
            "\n",
            "           0       1.00      1.00      1.00      1008\n",
            "           1       0.39      0.83      0.53      1049\n",
            "           2       0.25      0.75      0.38      1040\n",
            "           3       0.25      0.82      0.38      1017\n",
            "           4       0.28      0.73      0.41       983\n",
            "           5       0.81      0.86      0.84      1042\n",
            "           6       0.33      0.69      0.45      1012\n",
            "           7       0.43      1.00      0.60      1010\n",
            "           8       0.88      0.82      0.85      1040\n",
            "           9       0.32      0.74      0.45      1015\n",
            "          10       0.34      0.66      0.45      1031\n",
            "          11       0.77      1.00      0.87      1003\n",
            "          12       0.78      0.95      0.86      1034\n",
            "          13       0.85      0.98      0.91       992\n",
            "          14       0.80      0.93      0.86      1017\n",
            "          15       0.77      1.00      0.87      1011\n",
            "          16       0.92      0.93      0.93      1002\n",
            "          17       0.50      0.88      0.64       998\n",
            "          18       1.00      1.00      1.00      1004\n",
            "          19       0.38      0.78      0.51      1062\n",
            "          20       0.87      0.83      0.85      1018\n",
            "          21       0.44      0.63      0.52      1039\n",
            "          22       0.44      0.95      0.60      1001\n",
            "          23       0.61      0.81      0.69      1018\n",
            "          24       0.24      0.34      0.28      1005\n",
            "          25       0.20      0.83      0.32       967\n",
            "          26       0.78      0.76      0.77      1017\n",
            "          27       0.60      0.92      0.73      1022\n",
            "          28       0.56      0.53      0.54      1052\n",
            "          29       0.43      0.54      0.48      1022\n",
            "          30       0.18      0.52      0.26      1005\n",
            "          31       0.92      0.87      0.90      1003\n",
            "          32       0.86      1.00      0.92       993\n",
            "          33       0.98      1.00      0.99      1027\n",
            "          34       1.00      1.00      1.00      1028\n",
            "          35       0.97      1.00      0.98      1039\n",
            "          36       1.00      1.00      1.00      1003\n",
            "          37       0.82      1.00      0.90      1006\n",
            "          38       1.00      1.00      1.00       962\n",
            "          39       0.78      1.00      0.88      1083\n",
            "          40       1.00      1.00      1.00      1056\n",
            "          41       0.97      1.00      0.98      1041\n",
            "          42       1.00      1.00      1.00       995\n",
            "          43       0.97      1.00      0.98       968\n",
            "          44       1.00      1.00      1.00      1020\n",
            "          45       1.00      1.00      1.00      1015\n",
            "          46       1.00      1.00      1.00       981\n",
            "          47       1.00      1.00      1.00      1022\n",
            "          48       0.91      1.00      0.95      1029\n",
            "          49       0.95      1.00      0.97       966\n",
            "          50       1.00      1.00      1.00       977\n",
            "          51       1.00      1.00      1.00       995\n",
            "          52       0.94      1.00      0.97      1050\n",
            "          53       0.94      1.00      0.97      1068\n",
            "          54       0.95      1.00      0.97      1055\n",
            "          55       0.99      1.00      1.00       996\n",
            "          56       1.00      1.00      1.00      1006\n",
            "          57       1.00      1.00      1.00      1000\n",
            "          58       0.96      1.00      0.98      1003\n",
            "          59       1.00      1.00      1.00      1015\n",
            "          60       0.19      0.46      0.27      1043\n",
            "          61       1.00      1.00      1.00      1028\n",
            "          62       1.00      1.00      1.00       985\n",
            "          63       1.00      1.00      1.00      1046\n",
            "          64       0.98      1.00      0.99      1027\n",
            "          65       1.00      1.00      1.00      1004\n",
            "          66       0.99      1.00      1.00      1030\n",
            "          67       0.99      1.00      1.00      1067\n",
            "          68       0.98      1.00      0.99      1033\n",
            "          69       1.00      1.00      1.00      1079\n",
            "          70       0.99      1.00      1.00      1014\n",
            "          71       0.97      1.00      0.98      1036\n",
            "          72       0.94      1.00      0.97       978\n",
            "          73       0.78      1.00      0.87      1019\n",
            "          74       0.36      0.95      0.52      1027\n",
            "          75       0.47      0.72      0.57       999\n",
            "          76       0.65      0.90      0.75      1004\n",
            "          77       0.26      0.48      0.33      1053\n",
            "          78       0.38      0.85      0.52      1007\n",
            "          79       0.73      0.91      0.81       991\n",
            "          80       0.91      1.00      0.95      1038\n",
            "          81       0.22      0.92      0.36      1077\n",
            "          82       1.00      1.00      1.00      1058\n",
            "          83       1.00      1.00      1.00      1031\n",
            "          84       0.58      0.89      0.70      1006\n",
            "          85       0.99      1.00      0.99       995\n",
            "          86       0.97      0.75      0.85       991\n",
            "          87       0.21      0.44      0.28      1014\n",
            "          88       0.95      1.00      0.97       988\n",
            "          89       0.64      0.20      0.31      1009\n",
            "          90       0.95      1.00      0.98      1005\n",
            "\n",
            "   micro avg       0.65      0.89      0.75     92620\n",
            "   macro avg       0.76      0.89      0.80     92620\n",
            "weighted avg       0.76      0.89      0.80     92620\n",
            " samples avg       0.74      0.89      0.79     92620\n",
            "\n"
          ],
          "name": "stdout"
        },
        {
          "output_type": "stream",
          "text": [
            "/usr/local/lib/python3.6/dist-packages/sklearn/metrics/classification.py:1437: UndefinedMetricWarning: Precision and F-score are ill-defined and being set to 0.0 in samples with no predicted labels.\n",
            "  'precision', 'predicted', average, warn_for)\n"
          ],
          "name": "stderr"
        }
      ]
    },
    {
      "cell_type": "code",
      "metadata": {
        "id": "-Pj4W7ABb2-N",
        "colab_type": "code",
        "outputId": "3b6c8d2d-9f66-49f5-b27b-6a032fd8b14a",
        "colab": {
          "base_uri": "https://localhost:8080/",
          "height": 1000
        }
      },
      "source": [
        "print(classification_report(yval, models['lr']['y_pred']))"
      ],
      "execution_count": 0,
      "outputs": [
        {
          "output_type": "stream",
          "text": [
            "              precision    recall  f1-score   support\n",
            "\n",
            "           0       1.00      1.00      1.00      1008\n",
            "           1       0.94      0.88      0.91      1049\n",
            "           2       0.88      0.83      0.86      1040\n",
            "           3       0.92      0.82      0.86      1017\n",
            "           4       0.80      0.85      0.82       983\n",
            "           5       0.96      0.86      0.91      1042\n",
            "           6       0.66      0.69      0.68      1012\n",
            "           7       0.95      1.00      0.97      1010\n",
            "           8       0.94      0.82      0.88      1040\n",
            "           9       0.77      0.73      0.75      1015\n",
            "          10       0.92      0.75      0.82      1031\n",
            "          11       0.98      1.00      0.99      1003\n",
            "          12       0.93      0.95      0.94      1034\n",
            "          13       0.95      0.98      0.97       992\n",
            "          14       0.91      0.96      0.94      1017\n",
            "          15       0.94      1.00      0.97      1011\n",
            "          16       0.98      0.93      0.96      1002\n",
            "          17       0.92      0.95      0.94       998\n",
            "          18       1.00      1.00      1.00      1004\n",
            "          19       0.94      0.79      0.86      1062\n",
            "          20       1.00      0.83      0.90      1018\n",
            "          21       0.93      0.76      0.84      1039\n",
            "          22       0.91      0.98      0.94      1001\n",
            "          23       0.98      0.65      0.78      1018\n",
            "          24       0.84      0.45      0.59      1005\n",
            "          25       0.86      0.81      0.84       967\n",
            "          26       0.95      0.85      0.90      1017\n",
            "          27       0.91      0.97      0.94      1022\n",
            "          28       0.95      0.54      0.69      1052\n",
            "          29       0.90      0.55      0.68      1022\n",
            "          30       0.84      0.51      0.63      1005\n",
            "          31       0.98      0.87      0.92      1003\n",
            "          32       0.99      1.00      0.99       993\n",
            "          33       1.00      1.00      1.00      1027\n",
            "          34       1.00      1.00      1.00      1028\n",
            "          35       0.98      1.00      0.99      1039\n",
            "          36       1.00      1.00      1.00      1003\n",
            "          37       0.98      1.00      0.99      1006\n",
            "          38       1.00      1.00      1.00       962\n",
            "          39       1.00      1.00      1.00      1083\n",
            "          40       1.00      1.00      1.00      1056\n",
            "          41       1.00      1.00      1.00      1041\n",
            "          42       1.00      1.00      1.00       995\n",
            "          43       1.00      1.00      1.00       968\n",
            "          44       1.00      1.00      1.00      1020\n",
            "          45       1.00      1.00      1.00      1015\n",
            "          46       1.00      1.00      1.00       981\n",
            "          47       1.00      1.00      1.00      1022\n",
            "          48       1.00      1.00      1.00      1029\n",
            "          49       0.99      1.00      1.00       966\n",
            "          50       1.00      1.00      1.00       977\n",
            "          51       1.00      1.00      1.00       995\n",
            "          52       1.00      1.00      1.00      1050\n",
            "          53       0.99      1.00      0.99      1068\n",
            "          54       1.00      1.00      1.00      1055\n",
            "          55       1.00      1.00      1.00       996\n",
            "          56       1.00      1.00      1.00      1006\n",
            "          57       1.00      1.00      1.00      1000\n",
            "          58       0.97      1.00      0.99      1003\n",
            "          59       1.00      1.00      1.00      1015\n",
            "          60       0.84      0.51      0.64      1043\n",
            "          61       1.00      1.00      1.00      1028\n",
            "          62       1.00      1.00      1.00       985\n",
            "          63       1.00      1.00      1.00      1046\n",
            "          64       1.00      1.00      1.00      1027\n",
            "          65       1.00      1.00      1.00      1004\n",
            "          66       1.00      1.00      1.00      1030\n",
            "          67       1.00      1.00      1.00      1067\n",
            "          68       0.98      1.00      0.99      1033\n",
            "          69       1.00      1.00      1.00      1079\n",
            "          70       1.00      1.00      1.00      1014\n",
            "          71       1.00      1.00      1.00      1036\n",
            "          72       1.00      1.00      1.00       978\n",
            "          73       0.95      1.00      0.98      1019\n",
            "          74       0.99      0.97      0.98      1027\n",
            "          75       0.93      0.72      0.81       999\n",
            "          76       0.87      0.93      0.90      1004\n",
            "          77       0.89      0.51      0.65      1053\n",
            "          78       0.96      0.88      0.92      1007\n",
            "          79       1.00      0.99      0.99       991\n",
            "          80       0.99      1.00      1.00      1038\n",
            "          81       0.90      0.97      0.93      1077\n",
            "          82       1.00      1.00      1.00      1058\n",
            "          83       1.00      1.00      1.00      1031\n",
            "          84       0.86      0.97      0.91      1006\n",
            "          85       1.00      1.00      1.00       995\n",
            "          86       0.96      1.00      0.98       991\n",
            "          87       0.85      0.50      0.63      1014\n",
            "          88       0.99      1.00      0.99       988\n",
            "          89       0.94      0.87      0.90      1009\n",
            "          90       0.96      1.00      0.98      1005\n",
            "\n",
            "   micro avg       0.96      0.92      0.94     92620\n",
            "   macro avg       0.96      0.92      0.93     92620\n",
            "weighted avg       0.96      0.92      0.93     92620\n",
            " samples avg       0.91      0.92      0.91     92620\n",
            "\n"
          ],
          "name": "stdout"
        },
        {
          "output_type": "stream",
          "text": [
            "/usr/local/lib/python3.6/dist-packages/sklearn/metrics/classification.py:1437: UndefinedMetricWarning: Precision and F-score are ill-defined and being set to 0.0 in samples with no predicted labels.\n",
            "  'precision', 'predicted', average, warn_for)\n"
          ],
          "name": "stderr"
        }
      ]
    },
    {
      "cell_type": "code",
      "metadata": {
        "id": "pQDswIzTYGTJ",
        "colab_type": "code",
        "colab": {}
      },
      "source": [
        "def infer_tags(q):\n",
        "    q = clean_text(q)\n",
        "    q_vec = tfidf_vectorizer.transform([q])\n",
        "    q_pred = clf.predict(q_vec)\n",
        "    return multilabel_binarizer.inverse_transform(q_pred)\n",
        "\n",
        "for i in range(5):\n",
        "    k = xval.sample(1).index[0]\n",
        "    pred_subjs = sorted(set(infer_tags(xval[k])))\n",
        "    actu_subjs = sorted(set(data_df['subject_codes_list'][k]))\n",
        "    print(\"Movie: \", data_df['title'][k], \"\\nPredicted subjs: \", pred_subjs), print(\"Actual subjs: \",actu_subjs, \"\\n\",\"\\n ##################################################################################################################\")"
      ],
      "execution_count": 0,
      "outputs": []
    },
    {
      "cell_type": "code",
      "metadata": {
        "id": "KRWQAz-7YniT",
        "colab_type": "code",
        "colab": {}
      },
      "source": [
        ""
      ],
      "execution_count": 0,
      "outputs": []
    },
    {
      "cell_type": "code",
      "metadata": {
        "id": "P2rZIFYWgyVz",
        "colab_type": "code",
        "colab": {}
      },
      "source": [
        ""
      ],
      "execution_count": 0,
      "outputs": []
    }
  ]
}